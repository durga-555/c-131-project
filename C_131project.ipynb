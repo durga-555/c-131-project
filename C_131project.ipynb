{
  "nbformat": 4,
  "nbformat_minor": 0,
  "metadata": {
    "colab": {
      "name": "C-131project.ipynb",
      "provenance": [],
      "collapsed_sections": [],
      "authorship_tag": "ABX9TyMQls8OmO9M1sBEP6v0Atps",
      "include_colab_link": true
    },
    "kernelspec": {
      "name": "python3",
      "display_name": "Python 3"
    },
    "language_info": {
      "name": "python"
    }
  },
  "cells": [
    {
      "cell_type": "markdown",
      "metadata": {
        "id": "view-in-github",
        "colab_type": "text"
      },
      "source": [
        "<a href=\"https://colab.research.google.com/github/durga-555/c-131-project/blob/main/C_131project.ipynb\" target=\"_parent\"><img src=\"https://colab.research.google.com/assets/colab-badge.svg\" alt=\"Open In Colab\"/></a>"
      ]
    },
    {
      "cell_type": "code",
      "execution_count": 12,
      "metadata": {
        "id": "DHH221_Yoms1"
      },
      "outputs": [],
      "source": [
        "import csv\n",
        "import pandas as pd"
      ]
    },
    {
      "cell_type": "code",
      "source": [
        "rows = []\n",
        "\n",
        "with open('final.csv', 'r') as f:\n",
        "    csv_r = csv.reader(f)\n",
        "    for i in csv_r:\n",
        "        rows.append(i)"
      ],
      "metadata": {
        "id": "MmzaI-puovSM"
      },
      "execution_count": 13,
      "outputs": []
    },
    {
      "cell_type": "code",
      "source": [
        "headers = rows[0]\n",
        "stars_data = rows[1:]\n",
        "headers[0] = 'Index'"
      ],
      "metadata": {
        "id": "xj9whYJdp3jz"
      },
      "execution_count": 14,
      "outputs": []
    },
    {
      "cell_type": "code",
      "source": [
        "stars_data = []\n",
        "\n",
        "for star in stars_data:\n",
        "    if star[3] != '?': \n",
        "        star[3] = float(star[3].strip(\"\\'\"))*1.989e+30\n",
        "    \n",
        "    if star[4] != '?':\n",
        "        star[4] = float(star[4].strip(\"\\'\"))*6.957e+8\n",
        "    stars_data.append(star)"
      ],
      "metadata": {
        "id": "ygZ-wF36o9u8"
      },
      "execution_count": 15,
      "outputs": []
    },
    {
      "cell_type": "code",
      "source": [
        "star_data_gravity = []\n",
        "\n",
        "for star in stars_data:\n",
        "    if star[3] != '?' and star[4] != '?':\n",
        "        gravity = (6.674e-11 * float(star[3]))/(float(star[4])*float(star[4]))\n",
        "    star.append(gravity)\n",
        "    star_data_gravity.append(star)"
      ],
      "metadata": {
        "id": "gsDGETt3pFZ0"
      },
      "execution_count": 16,
      "outputs": []
    },
    {
      "cell_type": "code",
      "source": [
        "name = []\n",
        "distance = []\n",
        "mass = []\n",
        "radius = []\n",
        "gravity = []\n",
        "\n",
        "for i in star_data_gravity:\n",
        "    name.append(i[1])\n",
        "    distance.append(i[2])\n",
        "    mass.append(i[3])\n",
        "    radius.append(i[4])\n",
        "    gravity.append(i[5])\n",
        "\n",
        "df = pd.DataFrame(\n",
        "    list(zip(name, distance, mass, radius, gravity)),\n",
        "    columns=[\"Star Name\", \"Distance\", \"Mass\", \"Radius\", \"Gravity\"],\n",
        ")\n",
        "\n",
        "df.to_csv('final.csv')"
      ],
      "metadata": {
        "id": "elibOCg-pOK1"
      },
      "execution_count": 17,
      "outputs": []
    }
  ]
}